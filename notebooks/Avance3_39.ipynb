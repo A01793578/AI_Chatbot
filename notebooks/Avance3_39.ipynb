{
 "cells": [
  {
   "cell_type": "markdown",
   "id": "bf15c38b",
   "metadata": {},
   "source": [
    "# Algoritmos\n",
    "\n",
    "1. Datos No Estructurados y Estructurados:\n",
    "\n",
    "Los archivos de Word y PDF contienen información no estructurada que puede incluir texto en párrafos, listas y tablas.\n",
    "Los archivos JSON y las bases de datos SQL contienen datos estructurados que se organizan en un formato tabular.\n",
    "Dado que nuestro proyecto implica trabajar con ambos tipos de datos, necesitamos un modelo que pueda manejar esta diversidad.\n",
    "\n",
    "2. Características del Modelo Llama (Large Language Model Meta AI):\n",
    "\n",
    "Llama está diseñado para comprender y generar lenguaje natural, lo que es crucial para interpretar documentos de texto no estructurados.\n",
    "Llama es eficiente en términos de recursos computacionales, lo que facilita su entrenamiento y despliegue en entornos de producción.\n",
    "Llama puede ser escalado para manejar grandes volúmenes de datos, lo que es esencial considerando la cantidad de información que se va a procesar.\n",
    "Llama es altamente efectivo para interpretar y generar lenguaje natural, lo cual es crucial para un chatbot que necesita interactuar de manera fluida con los usuarios.\n",
    "\n",
    "Modelos como GPT-3 de OpenAI son extremadamente potentes pero también costosos de usar y entrenar. Llama ofrece una alternativa más accesible sin comprometer significativamente el rendimiento.\n",
    "\n",
    "3. Algoritmos\n",
    "\n",
    "RAG (Retrieval-Augmented Generation):\n",
    "\n",
    "RAG combina la capacidad de recuperación de información relevante (retrieval) con la generación de respuestas coherentes (generation). Esto es particularmente útil cuando se necesita extraer información específica de grandes volúmenes de texto.\n",
    "Al utilizar técnicas de recuperación, RAG puede acceder a información precisa y relevante de los documentos, mejorando la calidad de las respuestas generadas.\n",
    "RAG es adecuado para escenarios donde los datos provienen de múltiples fuentes y formatos, permitiendo una integración más sencilla de datos estructurados y no estructurados.\n",
    "RAG permite que el modelo se adapte dinámicamente a nuevas consultas sin necesidad de reentrenamiento extensivo, lo que es más eficiente y flexible que el fine-tuning.\n",
    "\n",
    "Fine-Tuning:\n",
    "\n",
    "Fine-tuning de modelos grandes como Llama puede ser muy costoso en términos de tiempo y recursos computacionales.\n",
    "Una vez que el modelo está fine-tuned, se vuelve menos flexible a cambios en los datos subyacentes. Cada vez que se agregan nuevos datos o se realizan modificaciones significativas, se requiere un nuevo ciclo de fine-tuning.\n",
    "Fine-tuning puede hacer que el modelo sea menos interpretable, ya que las modificaciones se hacen a nivel de parámetros internos del modelo.\n",
    "\n",
    "Decisión final (RAG):\n",
    "\n",
    "RAG permite que el modelo se adapte dinámicamente a nuevas consultas sin necesidad de reentrenamiento extensivo.\n",
    "RAG puede integrar nueva información de manera más eficiente, utilizando técnicas de recuperación para acceder a datos relevantes en tiempo real.\n",
    "RAG es más flexible para manejar diferentes tipos de datos y formatos, lo que es crucial en nuestro caso de uso.\n",
    "\n",
    "La interpretabilidad es relativamente alta en RAG porque se puede rastrear qué documentos y datos específicos se utilizaron para generar una respuesta. Esto es importante para la validación y mejora continua del modelo."
   ]
  },
  {
   "cell_type": "markdown",
   "id": "471a597f",
   "metadata": {},
   "source": [
    "# Precisión de Recuperación y Generación\n",
    "\n",
    "Para evaluar la eficiencia del modelo, es fundamental seleccionar una métrica que esté alineada con los objetivos del negocio y que permita una interpretación significativa en el contexto del problema que estamos abordando. En este caso, dado que estamos desarrollando un chatbot de IA para el equipo comercial de Ford, podemos considerar varias métricas, pero una especialmente relevante es la precisión de recuperación y generación de información relevante Precisión de Respuesta del Chatbot (PRC).\n",
    "\n",
    "Métrica: PRC\n",
    "\n",
    "**Definición:**\n",
    "PRC mide la proporción de resultados relevantes entre los primeros k resultados devueltos por el modelo. En el contexto de nuestro chatbot, esta métrica evaluará cuán precisa es la información que el modelo recupera y genera en respuesta a las consultas de los usuarios.\n",
    "\n",
    "Fórmula: [ \\text{PRC} = \\frac{\\text{Número de respuestas relevantes en los primeros k resultados}}{k} ]\n",
    "\n",
    "\n",
    "**Justificación**\n",
    "En un entorno comercial, es crucial que el chatbot proporcione información precisa y relevante rápidamente. Precision@k se alinea con este objetivo al medir cuán efectivas son las respuestas generadas por el modelo en términos de relevancia.\n",
    "La métrica ayuda a asegurar que el equipo comercial reciba información útil de manera rápida, mejorando la eficiencia en la toma de decisiones y la productividad.\n",
    "\n",
    "\n",
    "**Implementación**\n",
    "Crear un conjunto de consultas típicas que el equipo comercial podría hacer al chatbot.\n",
    "Obtener respuestas esperadas o relevantes para estas consultas a partir de expertos o fuentes confiables.\n",
    "Evaluación de Respuestas del Modelo:\n",
    "\n",
    "Ejecutar el modelo Llama con RAG para responder a las consultas del conjunto de evaluación.\n",
    "Comparar las respuestas generadas por el modelo con las respuestas esperadas.\n",
    "\n",
    "**Cálculo de PRC**\n",
    "\n",
    "Para cada consulta, contar el número de respuestas relevantes entre los primeros k resultados devueltos por el modelo.\n",
    "Calcular PRC para cada consulta y promediar estos valores para obtener una medida general de precisión.\n",
    "\n",
    "Ejemplo:\n",
    "\n",
    "Supongamos que hemos definido ( k = 5 ) (los primeros 5 resultados), y el modelo responde a una consulta con 5 respuestas, de las cuales 3 son relevantes:\n",
    "\n",
    "[ \\text{PRC} = \\frac{3}{5} = 0.60 ]\n",
    "\n",
    "Si repetimos este proceso para múltiples consultas y obtenemos una precisión promedio del 0.70, esto indica que, en promedio, el 70% de las respuestas dentro de los primeros 5 resultados son relevantes.\n",
    "\n",
    "\n",
    "PRC es fácil de interpretar y proporciona una medida clara de la efectividad del modelo en términos de relevancia de las respuestas, lo que facilita la comunicación de los resultados a las partes interesadas.\n"
   ]
  },
  {
   "cell_type": "markdown",
   "id": "1dd5b2bb",
   "metadata": {},
   "source": [
    "# Características importantes\n",
    "\n",
    "El análisis de las características importantes en modelos de Lenguaje de Gran Tamaño (LLM) como Llama es un desafío debido a la naturaleza compleja y de \"caja negra\" de estos modelos. Sin embargo, hay varias técnicas y enfoques que se pueden utilizar para obtener información sobre las características importantes y el comportamiento del modelo.\n",
    "\n",
    "1. Análisis de Atención (Attention Mechanisms)\n",
    "\n",
    "Los modelos basados en Transformers, como Llama, utilizan mecanismos de atención que permiten al modelo enfocarse en diferentes partes del texto de entrada mientras genera una respuesta.\n",
    "Analizar los pesos de atención puede proporcionar información sobre qué palabras o frases son más importantes para el modelo al tomar decisiones.\n",
    "* Visualizar los mapas de atención para diferentes capas y cabezas de atención del modelo.\n",
    "* Identificar patrones en los pesos de atención que indiquen qué partes del texto de entrada están influyendo más en las predicciones del modelo.\n",
    "\n",
    "2. Análisis de Errores\n",
    "\n",
    "Revisar y analizar los errores del modelo puede proporcionar información valiosa sobre las características importantes y las áreas donde el modelo podría mejorar.\n",
    "Comparar las respuestas generadas por el modelo con las respuestas esperadas y analizar las discrepancias.\n",
    "* Crear un conjunto de datos de prueba con ejemplos anotados y utilizarlo para evaluar el modelo.\n",
    "* Categorizar los errores en diferentes tipos (e.g., errores de comprensión, errores de generación, etc.) y analizar las causas subyacentes.\n",
    "\n",
    "\n",
    "3. Interpretabilidad Basada en Ejemplos (Example-Based Interpretability)\n",
    "\n",
    "Utilizar ejemplos específicos para entender cómo el modelo toma decisiones puede ser una forma efectiva de interpretar su comportamiento.\n",
    "Examinar cómo el modelo responde a diferentes variaciones de una consulta y qué características del texto de entrada son más influyentes.\n",
    "* Realizar pruebas de sensibilidad modificando partes del texto de entrada y observando cómo cambia la respuesta del modelo.\n",
    "* Utilizar técnicas de perturbación para evaluar la importancia de diferentes palabras o frases.\n",
    "\n",
    "4. Métodos de Interpretabilidad Post-Hoc\n",
    "\n",
    "Técnicas como LIME (Local Interpretable Model-agnostic Explanations) o SHAP (SHapley Additive exPlanations) pueden ser adaptadas para proporcionar interpretaciones locales de las decisiones del modelo.\n",
    "Estos métodos pueden ayudar a identificar qué características del texto de entrada están contribuyendo más a una predicción específica.\n",
    "* Aplicar LIME o SHAP a las salidas del modelo para generar explicaciones locales.\n",
    "* Analizar las explicaciones para identificar patrones y características importantes.\n",
    "\n",
    "5. Análisis de Frecuencia y Contexto\n",
    "\n",
    "Examinar la frecuencia y el contexto de las palabras y frases en el conjunto de datos de entrenamiento puede proporcionar información sobre qué características son más importantes para el modelo.\n",
    "Identificar patrones en el uso del lenguaje que el modelo ha aprendido a reconocer.\n",
    "* Utilizar técnicas de procesamiento de lenguaje natural (NLP) para analizar el conjunto de datos de entrenamiento.\n",
    "* Identificar palabras y frases clave que aparecen con mayor frecuencia y en contextos relevantes."
   ]
  },
  {
   "cell_type": "code",
   "execution_count": 16,
   "id": "65bba26a",
   "metadata": {},
   "outputs": [
    {
     "name": "stdout",
     "output_type": "stream",
     "text": [
      "Requirement already satisfied: langchain in /Users/kokusho/opt/anaconda3/lib/python3.9/site-packages (0.2.0)\n",
      "Requirement already satisfied: PyYAML>=5.3 in /Users/kokusho/opt/anaconda3/lib/python3.9/site-packages (from langchain) (6.0)\n",
      "Requirement already satisfied: SQLAlchemy<3,>=1.4 in /Users/kokusho/opt/anaconda3/lib/python3.9/site-packages (from langchain) (1.4.39)\n",
      "Requirement already satisfied: aiohttp<4.0.0,>=3.8.3 in /Users/kokusho/opt/anaconda3/lib/python3.9/site-packages (from langchain) (3.8.5)\n",
      "Requirement already satisfied: async-timeout<5.0.0,>=4.0.0 in /Users/kokusho/opt/anaconda3/lib/python3.9/site-packages (from langchain) (4.0.2)\n",
      "Requirement already satisfied: dataclasses-json<0.7,>=0.5.7 in /Users/kokusho/opt/anaconda3/lib/python3.9/site-packages (from langchain) (0.5.14)\n",
      "Requirement already satisfied: langchain-core<0.3.0,>=0.2.0 in /Users/kokusho/opt/anaconda3/lib/python3.9/site-packages (from langchain) (0.2.0)\n",
      "Requirement already satisfied: langchain-text-splitters<0.3.0,>=0.2.0 in /Users/kokusho/opt/anaconda3/lib/python3.9/site-packages (from langchain) (0.2.0)\n",
      "Requirement already satisfied: langsmith<0.2.0,>=0.1.17 in /Users/kokusho/opt/anaconda3/lib/python3.9/site-packages (from langchain) (0.1.59)\n",
      "Requirement already satisfied: numpy<2,>=1 in /Users/kokusho/opt/anaconda3/lib/python3.9/site-packages (from langchain) (1.24.3)\n",
      "Requirement already satisfied: pydantic<3,>=1 in /Users/kokusho/opt/anaconda3/lib/python3.9/site-packages (from langchain) (1.10.9)\n",
      "Requirement already satisfied: requests<3,>=2 in /Users/kokusho/opt/anaconda3/lib/python3.9/site-packages (from langchain) (2.31.0)\n",
      "Requirement already satisfied: tenacity<9.0.0,>=8.1.0 in /Users/kokusho/opt/anaconda3/lib/python3.9/site-packages (from langchain) (8.2.2)\n",
      "Requirement already satisfied: attrs>=17.3.0 in /Users/kokusho/opt/anaconda3/lib/python3.9/site-packages (from aiohttp<4.0.0,>=3.8.3->langchain) (22.1.0)\n",
      "Requirement already satisfied: charset-normalizer<4.0,>=2.0 in /Users/kokusho/opt/anaconda3/lib/python3.9/site-packages (from aiohttp<4.0.0,>=3.8.3->langchain) (2.0.4)\n",
      "Requirement already satisfied: multidict<7.0,>=4.5 in /Users/kokusho/opt/anaconda3/lib/python3.9/site-packages (from aiohttp<4.0.0,>=3.8.3->langchain) (6.0.2)\n",
      "Requirement already satisfied: yarl<2.0,>=1.0 in /Users/kokusho/opt/anaconda3/lib/python3.9/site-packages (from aiohttp<4.0.0,>=3.8.3->langchain) (1.8.1)\n",
      "Requirement already satisfied: frozenlist>=1.1.1 in /Users/kokusho/opt/anaconda3/lib/python3.9/site-packages (from aiohttp<4.0.0,>=3.8.3->langchain) (1.3.3)\n",
      "Requirement already satisfied: aiosignal>=1.1.2 in /Users/kokusho/opt/anaconda3/lib/python3.9/site-packages (from aiohttp<4.0.0,>=3.8.3->langchain) (1.2.0)\n",
      "Requirement already satisfied: marshmallow<4.0.0,>=3.18.0 in /Users/kokusho/opt/anaconda3/lib/python3.9/site-packages (from dataclasses-json<0.7,>=0.5.7->langchain) (3.20.1)\n",
      "Requirement already satisfied: typing-inspect<1,>=0.4.0 in /Users/kokusho/opt/anaconda3/lib/python3.9/site-packages (from dataclasses-json<0.7,>=0.5.7->langchain) (0.9.0)\n",
      "Requirement already satisfied: jsonpatch<2.0,>=1.33 in /Users/kokusho/opt/anaconda3/lib/python3.9/site-packages (from langchain-core<0.3.0,>=0.2.0->langchain) (1.33)\n",
      "Requirement already satisfied: packaging<24.0,>=23.2 in /Users/kokusho/opt/anaconda3/lib/python3.9/site-packages (from langchain-core<0.3.0,>=0.2.0->langchain) (23.2)\n",
      "Requirement already satisfied: orjson<4.0.0,>=3.9.14 in /Users/kokusho/opt/anaconda3/lib/python3.9/site-packages (from langsmith<0.2.0,>=0.1.17->langchain) (3.10.3)\n",
      "Requirement already satisfied: typing-extensions>=4.2.0 in /Users/kokusho/opt/anaconda3/lib/python3.9/site-packages (from pydantic<3,>=1->langchain) (4.7.1)\n",
      "Requirement already satisfied: idna<4,>=2.5 in /Users/kokusho/opt/anaconda3/lib/python3.9/site-packages (from requests<3,>=2->langchain) (3.4)\n",
      "Requirement already satisfied: urllib3<3,>=1.21.1 in /Users/kokusho/opt/anaconda3/lib/python3.9/site-packages (from requests<3,>=2->langchain) (2.0.4)\n",
      "Requirement already satisfied: certifi>=2017.4.17 in /Users/kokusho/opt/anaconda3/lib/python3.9/site-packages (from requests<3,>=2->langchain) (2023.7.22)\n",
      "Requirement already satisfied: greenlet!=0.4.17 in /Users/kokusho/opt/anaconda3/lib/python3.9/site-packages (from SQLAlchemy<3,>=1.4->langchain) (2.0.1)\n",
      "Requirement already satisfied: jsonpointer>=1.9 in /Users/kokusho/opt/anaconda3/lib/python3.9/site-packages (from jsonpatch<2.0,>=1.33->langchain-core<0.3.0,>=0.2.0->langchain) (2.4)\n",
      "Requirement already satisfied: mypy-extensions>=0.3.0 in /Users/kokusho/opt/anaconda3/lib/python3.9/site-packages (from typing-inspect<1,>=0.4.0->dataclasses-json<0.7,>=0.5.7->langchain) (0.4.3)\n",
      "Requirement already satisfied: openai in /Users/kokusho/opt/anaconda3/lib/python3.9/site-packages (0.28.0)\n",
      "Requirement already satisfied: requests>=2.20 in /Users/kokusho/opt/anaconda3/lib/python3.9/site-packages (from openai) (2.31.0)\n",
      "Requirement already satisfied: tqdm in /Users/kokusho/opt/anaconda3/lib/python3.9/site-packages (from openai) (4.66.1)\n",
      "Requirement already satisfied: aiohttp in /Users/kokusho/opt/anaconda3/lib/python3.9/site-packages (from openai) (3.8.5)\n",
      "Requirement already satisfied: charset-normalizer<4,>=2 in /Users/kokusho/opt/anaconda3/lib/python3.9/site-packages (from requests>=2.20->openai) (2.0.4)\n",
      "Requirement already satisfied: idna<4,>=2.5 in /Users/kokusho/opt/anaconda3/lib/python3.9/site-packages (from requests>=2.20->openai) (3.4)\n",
      "Requirement already satisfied: urllib3<3,>=1.21.1 in /Users/kokusho/opt/anaconda3/lib/python3.9/site-packages (from requests>=2.20->openai) (2.0.4)\n",
      "Requirement already satisfied: certifi>=2017.4.17 in /Users/kokusho/opt/anaconda3/lib/python3.9/site-packages (from requests>=2.20->openai) (2023.7.22)\n",
      "Requirement already satisfied: attrs>=17.3.0 in /Users/kokusho/opt/anaconda3/lib/python3.9/site-packages (from aiohttp->openai) (22.1.0)\n",
      "Requirement already satisfied: multidict<7.0,>=4.5 in /Users/kokusho/opt/anaconda3/lib/python3.9/site-packages (from aiohttp->openai) (6.0.2)\n",
      "Requirement already satisfied: async-timeout<5.0,>=4.0.0a3 in /Users/kokusho/opt/anaconda3/lib/python3.9/site-packages (from aiohttp->openai) (4.0.2)\n",
      "Requirement already satisfied: yarl<2.0,>=1.0 in /Users/kokusho/opt/anaconda3/lib/python3.9/site-packages (from aiohttp->openai) (1.8.1)\n",
      "Requirement already satisfied: frozenlist>=1.1.1 in /Users/kokusho/opt/anaconda3/lib/python3.9/site-packages (from aiohttp->openai) (1.3.3)\n",
      "Requirement already satisfied: aiosignal>=1.1.2 in /Users/kokusho/opt/anaconda3/lib/python3.9/site-packages (from aiohttp->openai) (1.2.0)\n",
      "Requirement already satisfied: tiktoken in /Users/kokusho/opt/anaconda3/lib/python3.9/site-packages (0.7.0)\n",
      "Requirement already satisfied: regex>=2022.1.18 in /Users/kokusho/opt/anaconda3/lib/python3.9/site-packages (from tiktoken) (2022.7.9)\n",
      "Requirement already satisfied: requests>=2.26.0 in /Users/kokusho/opt/anaconda3/lib/python3.9/site-packages (from tiktoken) (2.31.0)\n",
      "Requirement already satisfied: charset-normalizer<4,>=2 in /Users/kokusho/opt/anaconda3/lib/python3.9/site-packages (from requests>=2.26.0->tiktoken) (2.0.4)\n",
      "Requirement already satisfied: idna<4,>=2.5 in /Users/kokusho/opt/anaconda3/lib/python3.9/site-packages (from requests>=2.26.0->tiktoken) (3.4)\n",
      "Requirement already satisfied: urllib3<3,>=1.21.1 in /Users/kokusho/opt/anaconda3/lib/python3.9/site-packages (from requests>=2.26.0->tiktoken) (2.0.4)\n",
      "Requirement already satisfied: certifi>=2017.4.17 in /Users/kokusho/opt/anaconda3/lib/python3.9/site-packages (from requests>=2.26.0->tiktoken) (2023.7.22)\n",
      "\u001b[31mERROR: Could not find a version that satisfies the requirement faiss-gpu (from versions: none)\u001b[0m\u001b[31m\n",
      "\u001b[0m\u001b[31mERROR: No matching distribution found for faiss-gpu\u001b[0m\u001b[31m\n",
      "\u001b[0mRequirement already satisfied: langchain_experimental in /Users/kokusho/opt/anaconda3/lib/python3.9/site-packages (0.0.59)\n",
      "Requirement already satisfied: langchain-community<0.3,>=0.2 in /Users/kokusho/opt/anaconda3/lib/python3.9/site-packages (from langchain_experimental) (0.2.0)\n",
      "Requirement already satisfied: langchain-core<0.3,>=0.2 in /Users/kokusho/opt/anaconda3/lib/python3.9/site-packages (from langchain_experimental) (0.2.0)\n"
     ]
    },
    {
     "name": "stdout",
     "output_type": "stream",
     "text": [
      "Requirement already satisfied: PyYAML>=5.3 in /Users/kokusho/opt/anaconda3/lib/python3.9/site-packages (from langchain-community<0.3,>=0.2->langchain_experimental) (6.0)\n",
      "Requirement already satisfied: SQLAlchemy<3,>=1.4 in /Users/kokusho/opt/anaconda3/lib/python3.9/site-packages (from langchain-community<0.3,>=0.2->langchain_experimental) (1.4.39)\n",
      "Requirement already satisfied: aiohttp<4.0.0,>=3.8.3 in /Users/kokusho/opt/anaconda3/lib/python3.9/site-packages (from langchain-community<0.3,>=0.2->langchain_experimental) (3.8.5)\n",
      "Requirement already satisfied: dataclasses-json<0.7,>=0.5.7 in /Users/kokusho/opt/anaconda3/lib/python3.9/site-packages (from langchain-community<0.3,>=0.2->langchain_experimental) (0.5.14)\n",
      "Requirement already satisfied: langchain<0.3.0,>=0.2.0 in /Users/kokusho/opt/anaconda3/lib/python3.9/site-packages (from langchain-community<0.3,>=0.2->langchain_experimental) (0.2.0)\n",
      "Requirement already satisfied: langsmith<0.2.0,>=0.1.0 in /Users/kokusho/opt/anaconda3/lib/python3.9/site-packages (from langchain-community<0.3,>=0.2->langchain_experimental) (0.1.59)\n",
      "Requirement already satisfied: numpy<2,>=1 in /Users/kokusho/opt/anaconda3/lib/python3.9/site-packages (from langchain-community<0.3,>=0.2->langchain_experimental) (1.24.3)\n",
      "Requirement already satisfied: requests<3,>=2 in /Users/kokusho/opt/anaconda3/lib/python3.9/site-packages (from langchain-community<0.3,>=0.2->langchain_experimental) (2.31.0)\n",
      "Requirement already satisfied: tenacity<9.0.0,>=8.1.0 in /Users/kokusho/opt/anaconda3/lib/python3.9/site-packages (from langchain-community<0.3,>=0.2->langchain_experimental) (8.2.2)\n",
      "Requirement already satisfied: jsonpatch<2.0,>=1.33 in /Users/kokusho/opt/anaconda3/lib/python3.9/site-packages (from langchain-core<0.3,>=0.2->langchain_experimental) (1.33)\n",
      "Requirement already satisfied: packaging<24.0,>=23.2 in /Users/kokusho/opt/anaconda3/lib/python3.9/site-packages (from langchain-core<0.3,>=0.2->langchain_experimental) (23.2)\n",
      "Requirement already satisfied: pydantic<3,>=1 in /Users/kokusho/opt/anaconda3/lib/python3.9/site-packages (from langchain-core<0.3,>=0.2->langchain_experimental) (1.10.9)\n",
      "Requirement already satisfied: attrs>=17.3.0 in /Users/kokusho/opt/anaconda3/lib/python3.9/site-packages (from aiohttp<4.0.0,>=3.8.3->langchain-community<0.3,>=0.2->langchain_experimental) (22.1.0)\n",
      "Requirement already satisfied: charset-normalizer<4.0,>=2.0 in /Users/kokusho/opt/anaconda3/lib/python3.9/site-packages (from aiohttp<4.0.0,>=3.8.3->langchain-community<0.3,>=0.2->langchain_experimental) (2.0.4)\n",
      "Requirement already satisfied: multidict<7.0,>=4.5 in /Users/kokusho/opt/anaconda3/lib/python3.9/site-packages (from aiohttp<4.0.0,>=3.8.3->langchain-community<0.3,>=0.2->langchain_experimental) (6.0.2)\n",
      "Requirement already satisfied: async-timeout<5.0,>=4.0.0a3 in /Users/kokusho/opt/anaconda3/lib/python3.9/site-packages (from aiohttp<4.0.0,>=3.8.3->langchain-community<0.3,>=0.2->langchain_experimental) (4.0.2)\n",
      "Requirement already satisfied: yarl<2.0,>=1.0 in /Users/kokusho/opt/anaconda3/lib/python3.9/site-packages (from aiohttp<4.0.0,>=3.8.3->langchain-community<0.3,>=0.2->langchain_experimental) (1.8.1)\n",
      "Requirement already satisfied: frozenlist>=1.1.1 in /Users/kokusho/opt/anaconda3/lib/python3.9/site-packages (from aiohttp<4.0.0,>=3.8.3->langchain-community<0.3,>=0.2->langchain_experimental) (1.3.3)\n",
      "Requirement already satisfied: aiosignal>=1.1.2 in /Users/kokusho/opt/anaconda3/lib/python3.9/site-packages (from aiohttp<4.0.0,>=3.8.3->langchain-community<0.3,>=0.2->langchain_experimental) (1.2.0)\n",
      "Requirement already satisfied: marshmallow<4.0.0,>=3.18.0 in /Users/kokusho/opt/anaconda3/lib/python3.9/site-packages (from dataclasses-json<0.7,>=0.5.7->langchain-community<0.3,>=0.2->langchain_experimental) (3.20.1)\n",
      "Requirement already satisfied: typing-inspect<1,>=0.4.0 in /Users/kokusho/opt/anaconda3/lib/python3.9/site-packages (from dataclasses-json<0.7,>=0.5.7->langchain-community<0.3,>=0.2->langchain_experimental) (0.9.0)\n",
      "Requirement already satisfied: jsonpointer>=1.9 in /Users/kokusho/opt/anaconda3/lib/python3.9/site-packages (from jsonpatch<2.0,>=1.33->langchain-core<0.3,>=0.2->langchain_experimental) (2.4)\n",
      "Requirement already satisfied: langchain-text-splitters<0.3.0,>=0.2.0 in /Users/kokusho/opt/anaconda3/lib/python3.9/site-packages (from langchain<0.3.0,>=0.2.0->langchain-community<0.3,>=0.2->langchain_experimental) (0.2.0)\n",
      "Requirement already satisfied: orjson<4.0.0,>=3.9.14 in /Users/kokusho/opt/anaconda3/lib/python3.9/site-packages (from langsmith<0.2.0,>=0.1.0->langchain-community<0.3,>=0.2->langchain_experimental) (3.10.3)\n",
      "Requirement already satisfied: typing-extensions>=4.2.0 in /Users/kokusho/opt/anaconda3/lib/python3.9/site-packages (from pydantic<3,>=1->langchain-core<0.3,>=0.2->langchain_experimental) (4.7.1)\n",
      "Requirement already satisfied: idna<4,>=2.5 in /Users/kokusho/opt/anaconda3/lib/python3.9/site-packages (from requests<3,>=2->langchain-community<0.3,>=0.2->langchain_experimental) (3.4)\n",
      "Requirement already satisfied: urllib3<3,>=1.21.1 in /Users/kokusho/opt/anaconda3/lib/python3.9/site-packages (from requests<3,>=2->langchain-community<0.3,>=0.2->langchain_experimental) (2.0.4)\n",
      "Requirement already satisfied: certifi>=2017.4.17 in /Users/kokusho/opt/anaconda3/lib/python3.9/site-packages (from requests<3,>=2->langchain-community<0.3,>=0.2->langchain_experimental) (2023.7.22)\n",
      "Requirement already satisfied: greenlet!=0.4.17 in /Users/kokusho/opt/anaconda3/lib/python3.9/site-packages (from SQLAlchemy<3,>=1.4->langchain-community<0.3,>=0.2->langchain_experimental) (2.0.1)\n",
      "Requirement already satisfied: mypy-extensions>=0.3.0 in /Users/kokusho/opt/anaconda3/lib/python3.9/site-packages (from typing-inspect<1,>=0.4.0->dataclasses-json<0.7,>=0.5.7->langchain-community<0.3,>=0.2->langchain_experimental) (0.4.3)\n",
      "Requirement already satisfied: langchain[docarray] in /Users/kokusho/opt/anaconda3/lib/python3.9/site-packages (0.2.0)\n",
      "Requirement already satisfied: PyYAML>=5.3 in /Users/kokusho/opt/anaconda3/lib/python3.9/site-packages (from langchain[docarray]) (6.0)\n",
      "Requirement already satisfied: SQLAlchemy<3,>=1.4 in /Users/kokusho/opt/anaconda3/lib/python3.9/site-packages (from langchain[docarray]) (1.4.39)\n",
      "Requirement already satisfied: aiohttp<4.0.0,>=3.8.3 in /Users/kokusho/opt/anaconda3/lib/python3.9/site-packages (from langchain[docarray]) (3.8.5)\n",
      "Requirement already satisfied: async-timeout<5.0.0,>=4.0.0 in /Users/kokusho/opt/anaconda3/lib/python3.9/site-packages (from langchain[docarray]) (4.0.2)\n",
      "Requirement already satisfied: dataclasses-json<0.7,>=0.5.7 in /Users/kokusho/opt/anaconda3/lib/python3.9/site-packages (from langchain[docarray]) (0.5.14)\n",
      "Requirement already satisfied: langchain-core<0.3.0,>=0.2.0 in /Users/kokusho/opt/anaconda3/lib/python3.9/site-packages (from langchain[docarray]) (0.2.0)\n",
      "Requirement already satisfied: langchain-text-splitters<0.3.0,>=0.2.0 in /Users/kokusho/opt/anaconda3/lib/python3.9/site-packages (from langchain[docarray]) (0.2.0)\n",
      "Requirement already satisfied: langsmith<0.2.0,>=0.1.17 in /Users/kokusho/opt/anaconda3/lib/python3.9/site-packages (from langchain[docarray]) (0.1.59)\n",
      "Requirement already satisfied: numpy<2,>=1 in /Users/kokusho/opt/anaconda3/lib/python3.9/site-packages (from langchain[docarray]) (1.24.3)\n",
      "Requirement already satisfied: pydantic<3,>=1 in /Users/kokusho/opt/anaconda3/lib/python3.9/site-packages (from langchain[docarray]) (1.10.9)\n",
      "Requirement already satisfied: requests<3,>=2 in /Users/kokusho/opt/anaconda3/lib/python3.9/site-packages (from langchain[docarray]) (2.31.0)\n",
      "Requirement already satisfied: tenacity<9.0.0,>=8.1.0 in /Users/kokusho/opt/anaconda3/lib/python3.9/site-packages (from langchain[docarray]) (8.2.2)\n",
      "Requirement already satisfied: docarray[hnswlib]<0.33.0,>=0.32.0 in /Users/kokusho/opt/anaconda3/lib/python3.9/site-packages (from langchain[docarray]) (0.32.1)\n",
      "Requirement already satisfied: attrs>=17.3.0 in /Users/kokusho/opt/anaconda3/lib/python3.9/site-packages (from aiohttp<4.0.0,>=3.8.3->langchain[docarray]) (22.1.0)\n",
      "Requirement already satisfied: charset-normalizer<4.0,>=2.0 in /Users/kokusho/opt/anaconda3/lib/python3.9/site-packages (from aiohttp<4.0.0,>=3.8.3->langchain[docarray]) (2.0.4)\n",
      "Requirement already satisfied: multidict<7.0,>=4.5 in /Users/kokusho/opt/anaconda3/lib/python3.9/site-packages (from aiohttp<4.0.0,>=3.8.3->langchain[docarray]) (6.0.2)\n",
      "Requirement already satisfied: yarl<2.0,>=1.0 in /Users/kokusho/opt/anaconda3/lib/python3.9/site-packages (from aiohttp<4.0.0,>=3.8.3->langchain[docarray]) (1.8.1)\n",
      "Requirement already satisfied: frozenlist>=1.1.1 in /Users/kokusho/opt/anaconda3/lib/python3.9/site-packages (from aiohttp<4.0.0,>=3.8.3->langchain[docarray]) (1.3.3)\n",
      "Requirement already satisfied: aiosignal>=1.1.2 in /Users/kokusho/opt/anaconda3/lib/python3.9/site-packages (from aiohttp<4.0.0,>=3.8.3->langchain[docarray]) (1.2.0)\n",
      "Requirement already satisfied: marshmallow<4.0.0,>=3.18.0 in /Users/kokusho/opt/anaconda3/lib/python3.9/site-packages (from dataclasses-json<0.7,>=0.5.7->langchain[docarray]) (3.20.1)\n",
      "Requirement already satisfied: typing-inspect<1,>=0.4.0 in /Users/kokusho/opt/anaconda3/lib/python3.9/site-packages (from dataclasses-json<0.7,>=0.5.7->langchain[docarray]) (0.9.0)\n"
     ]
    },
    {
     "name": "stdout",
     "output_type": "stream",
     "text": [
      "Requirement already satisfied: orjson>=3.8.2 in /Users/kokusho/opt/anaconda3/lib/python3.9/site-packages (from docarray[hnswlib]<0.33.0,>=0.32.0->langchain[docarray]) (3.10.3)\n",
      "Requirement already satisfied: rich>=13.1.0 in /Users/kokusho/opt/anaconda3/lib/python3.9/site-packages (from docarray[hnswlib]<0.33.0,>=0.32.0->langchain[docarray]) (13.7.1)\n",
      "Requirement already satisfied: types-requests>=2.28.11.6 in /Users/kokusho/opt/anaconda3/lib/python3.9/site-packages (from docarray[hnswlib]<0.33.0,>=0.32.0->langchain[docarray]) (2.31.0.20240406)\n",
      "Requirement already satisfied: hnswlib>=0.6.2 in /Users/kokusho/opt/anaconda3/lib/python3.9/site-packages (from docarray[hnswlib]<0.33.0,>=0.32.0->langchain[docarray]) (0.8.0)\n",
      "Requirement already satisfied: protobuf>=3.19.0 in /Users/kokusho/opt/anaconda3/lib/python3.9/site-packages (from docarray[hnswlib]<0.33.0,>=0.32.0->langchain[docarray]) (3.20.3)\n",
      "Requirement already satisfied: jsonpatch<2.0,>=1.33 in /Users/kokusho/opt/anaconda3/lib/python3.9/site-packages (from langchain-core<0.3.0,>=0.2.0->langchain[docarray]) (1.33)\n",
      "Requirement already satisfied: packaging<24.0,>=23.2 in /Users/kokusho/opt/anaconda3/lib/python3.9/site-packages (from langchain-core<0.3.0,>=0.2.0->langchain[docarray]) (23.2)\n",
      "Requirement already satisfied: typing-extensions>=4.2.0 in /Users/kokusho/opt/anaconda3/lib/python3.9/site-packages (from pydantic<3,>=1->langchain[docarray]) (4.7.1)\n",
      "Requirement already satisfied: idna<4,>=2.5 in /Users/kokusho/opt/anaconda3/lib/python3.9/site-packages (from requests<3,>=2->langchain[docarray]) (3.4)\n",
      "Requirement already satisfied: urllib3<3,>=1.21.1 in /Users/kokusho/opt/anaconda3/lib/python3.9/site-packages (from requests<3,>=2->langchain[docarray]) (2.0.4)\n",
      "Requirement already satisfied: certifi>=2017.4.17 in /Users/kokusho/opt/anaconda3/lib/python3.9/site-packages (from requests<3,>=2->langchain[docarray]) (2023.7.22)\n",
      "Requirement already satisfied: greenlet!=0.4.17 in /Users/kokusho/opt/anaconda3/lib/python3.9/site-packages (from SQLAlchemy<3,>=1.4->langchain[docarray]) (2.0.1)\n",
      "Requirement already satisfied: jsonpointer>=1.9 in /Users/kokusho/opt/anaconda3/lib/python3.9/site-packages (from jsonpatch<2.0,>=1.33->langchain-core<0.3.0,>=0.2.0->langchain[docarray]) (2.4)\n",
      "Requirement already satisfied: markdown-it-py>=2.2.0 in /Users/kokusho/opt/anaconda3/lib/python3.9/site-packages (from rich>=13.1.0->docarray[hnswlib]<0.33.0,>=0.32.0->langchain[docarray]) (2.2.0)\n",
      "Requirement already satisfied: pygments<3.0.0,>=2.13.0 in /Users/kokusho/opt/anaconda3/lib/python3.9/site-packages (from rich>=13.1.0->docarray[hnswlib]<0.33.0,>=0.32.0->langchain[docarray]) (2.15.1)\n",
      "Requirement already satisfied: mypy-extensions>=0.3.0 in /Users/kokusho/opt/anaconda3/lib/python3.9/site-packages (from typing-inspect<1,>=0.4.0->dataclasses-json<0.7,>=0.5.7->langchain[docarray]) (0.4.3)\n",
      "Requirement already satisfied: mdurl~=0.1 in /Users/kokusho/opt/anaconda3/lib/python3.9/site-packages (from markdown-it-py>=2.2.0->rich>=13.1.0->docarray[hnswlib]<0.33.0,>=0.32.0->langchain[docarray]) (0.1.0)\n",
      "Collecting jq\n",
      "  Obtaining dependency information for jq from https://files.pythonhosted.org/packages/4f/51/259d005d2d6b269009b5ad3d4502bb40003cbab6ccead31e16a67629c47b/jq-1.7.0-cp39-cp39-macosx_10_9_x86_64.whl.metadata\n",
      "  Downloading jq-1.7.0-cp39-cp39-macosx_10_9_x86_64.whl.metadata (6.8 kB)\n",
      "Downloading jq-1.7.0-cp39-cp39-macosx_10_9_x86_64.whl (403 kB)\n",
      "\u001b[2K   \u001b[90m━━━━━━━━━━━━━━━━━━━━━━━━━━━━━━━━━━━━━━━━\u001b[0m \u001b[32m403.8/403.8 kB\u001b[0m \u001b[31m2.5 MB/s\u001b[0m eta \u001b[36m0:00:00\u001b[0m00:01\u001b[0m00:01\u001b[0m\n",
      "\u001b[?25hInstalling collected packages: jq\n",
      "Successfully installed jq-1.7.0\n"
     ]
    }
   ],
   "source": [
    "!pip install langchain\n",
    "!pip install openai\n",
    "!pip install tiktoken\n",
    "!pip install faiss-cpu\n",
    "!pip install langchain_experimental\n",
    "!pip install \"langchain[docarray]\"\n",
    "!pip install jq\n"
   ]
  },
  {
   "cell_type": "code",
   "execution_count": 38,
   "id": "fdfbbec8",
   "metadata": {},
   "outputs": [
    {
     "name": "stdout",
     "output_type": "stream",
     "text": [
      "Collecting faiss-cpu\n",
      "  Obtaining dependency information for faiss-cpu from https://files.pythonhosted.org/packages/ed/96/4694074d8684b9684116d1669b34f7b7b585406ad714af8940a66ff31c7d/faiss_cpu-1.8.0-cp39-cp39-macosx_10_14_x86_64.whl.metadata\n",
      "  Downloading faiss_cpu-1.8.0-cp39-cp39-macosx_10_14_x86_64.whl.metadata (3.6 kB)\n",
      "Requirement already satisfied: numpy in /Users/kokusho/opt/anaconda3/lib/python3.9/site-packages (from faiss-cpu) (1.24.3)\n",
      "Downloading faiss_cpu-1.8.0-cp39-cp39-macosx_10_14_x86_64.whl (7.3 MB)\n",
      "\u001b[2K   \u001b[90m━━━━━━━━━━━━━━━━━━━━━━━━━━━━━━━━━━━━━━━━\u001b[0m \u001b[32m7.3/7.3 MB\u001b[0m \u001b[31m16.9 MB/s\u001b[0m eta \u001b[36m0:00:00\u001b[0m00:01\u001b[0m00:01\u001b[0m\n",
      "\u001b[?25hInstalling collected packages: faiss-cpu\n",
      "Successfully installed faiss-cpu-1.8.0\n"
     ]
    }
   ],
   "source": [
    "!pip install faiss-cpu"
   ]
  },
  {
   "cell_type": "code",
   "execution_count": 35,
   "id": "3752d89c",
   "metadata": {},
   "outputs": [],
   "source": [
    "import os\n",
    "from langchain.document_loaders.json_loader import JSONLoader\n",
    "from langchain.document_loaders import DirectoryLoader, TextLoader\n",
    "from langchain.embeddings import OpenAIEmbeddings\n"
   ]
  },
  {
   "cell_type": "code",
   "execution_count": 39,
   "id": "2ecbec10",
   "metadata": {},
   "outputs": [
    {
     "name": "stdout",
     "output_type": "stream",
     "text": [
      "OPENAI_API_KEY has been set!\n"
     ]
    }
   ],
   "source": [
    "api_key = \"sk-....\"\n",
    "\n",
    "# Set the API key as an environment variable\n",
    "os.environ[\"OPENAI_API_KEY\"] = api_key\n",
    "\n",
    "# Optionally, check that the environment variable was set correctly\n",
    "print(\"OPENAI_API_KEY has been set!\")"
   ]
  },
  {
   "cell_type": "code",
   "execution_count": 33,
   "id": "9860734d",
   "metadata": {},
   "outputs": [
    {
     "name": "stdout",
     "output_type": "stream",
     "text": [
      "Structure of ../json/llm_train_sales_data.json:\n",
      "Structure of ../json/llm_train_stock_data.json:\n",
      "Structure of ../json/llm_train_industry_data.json:\n"
     ]
    },
    {
     "name": "stderr",
     "output_type": "stream",
     "text": [
      "100%|█████████████████████████████████████████████| 3/3 [00:00<00:00, 22.89it/s]"
     ]
    },
    {
     "name": "stdout",
     "output_type": "stream",
     "text": [
      "document count: 3\n"
     ]
    },
    {
     "name": "stderr",
     "output_type": "stream",
     "text": [
      "\n"
     ]
    }
   ],
   "source": [
    "import json\n",
    "from langchain_community.document_loaders import DirectoryLoader, JSONLoader\n",
    "\n",
    "DRIVE_FOLDER = \"../json/\"\n",
    "\n",
    "# Function to print the structure of the JSON files for debugging\n",
    "def print_json_structure(file_path):\n",
    "    with open(file_path, 'r', encoding='utf-8') as f:\n",
    "        data = json.load(f)\n",
    "        print(json.dumps(data, indent=2))\n",
    "\n",
    "# Load the files and print their structure\n",
    "import glob\n",
    "\n",
    "json_files = glob.glob(f\"{DRIVE_FOLDER}/**/*.json\", recursive=True)\n",
    "for file_path in json_files:\n",
    "    print(f\"Structure of {file_path}:\")\n",
    "\n",
    "# Custom loader kwargs with text_content=False\n",
    "loader_kwargs = {\n",
    "    'jq_schema': '.',  # Adjust the schema based on the actual structure\n",
    "    'text_content': False  # Handle non-string content\n",
    "}\n",
    "\n",
    "# Create a DirectoryLoader instance with the custom loader settings\n",
    "loader = DirectoryLoader(\n",
    "    DRIVE_FOLDER,\n",
    "    glob='**/*.json',\n",
    "    show_progress=True,\n",
    "    loader_cls=JSONLoader,\n",
    "    loader_kwargs=loader_kwargs\n",
    ")\n",
    "\n",
    "# Function to extract relevant content from a dictionary\n",
    "def extract_content(doc):\n",
    "    if isinstance(doc, dict):\n",
    "        # Adjust this extraction logic based on your JSON structure\n",
    "        return doc.get('content', str(doc))  # Default to string representation if 'content' key not found\n",
    "    return str(doc)\n",
    "\n",
    "# Load the documents\n",
    "try:\n",
    "    documents = loader.load()\n",
    "    # Extract content from documents\n",
    "    extracted_documents = [extract_content(doc.page_content) for doc in documents]\n",
    "    \n",
    "    print(f'document count: {len(documents)}')\n",
    "except Exception as e:\n",
    "    print(f\"An error occurred: {e}\")\n"
   ]
  },
  {
   "cell_type": "code",
   "execution_count": 36,
   "id": "f8f9db48",
   "metadata": {},
   "outputs": [
    {
     "name": "stderr",
     "output_type": "stream",
     "text": [
      "/Users/kokusho/opt/anaconda3/lib/python3.9/site-packages/langchain_core/_api/deprecation.py:119: LangChainDeprecationWarning: The class `OpenAIEmbeddings` was deprecated in LangChain 0.0.9 and will be removed in 0.3.0. An updated version of the class exists in the langchain-openai package and should be used instead. To use it run `pip install -U langchain-openai` and import as `from langchain_openai import OpenAIEmbeddings`.\n",
      "  warn_deprecated(\n"
     ]
    }
   ],
   "source": [
    "embeddings = OpenAIEmbeddings()"
   ]
  },
  {
   "cell_type": "code",
   "execution_count": 37,
   "id": "a32300c3",
   "metadata": {},
   "outputs": [
    {
     "ename": "NameError",
     "evalue": "name 'FAISS' is not defined",
     "output_type": "error",
     "traceback": [
      "\u001b[0;31m---------------------------------------------------------------------------\u001b[0m",
      "\u001b[0;31mNameError\u001b[0m                                 Traceback (most recent call last)",
      "Cell \u001b[0;32mIn[37], line 1\u001b[0m\n\u001b[0;32m----> 1\u001b[0m vectorstore \u001b[38;5;241m=\u001b[39m \u001b[43mFAISS\u001b[49m\u001b[38;5;241m.\u001b[39mfrom_documents(data, embedding\u001b[38;5;241m=\u001b[39membeddings)\n",
      "\u001b[0;31mNameError\u001b[0m: name 'FAISS' is not defined"
     ]
    }
   ],
   "source": [
    "vectorstore = FAISS.from_documents(data, embedding=embeddings)"
   ]
  },
  {
   "cell_type": "code",
   "execution_count": null,
   "id": "013dd090",
   "metadata": {},
   "outputs": [],
   "source": []
  }
 ],
 "metadata": {
  "kernelspec": {
   "display_name": "Python 3 (ipykernel)",
   "language": "python",
   "name": "python3"
  },
  "language_info": {
   "codemirror_mode": {
    "name": "ipython",
    "version": 3
   },
   "file_extension": ".py",
   "mimetype": "text/x-python",
   "name": "python",
   "nbconvert_exporter": "python",
   "pygments_lexer": "ipython3",
   "version": "3.9.18"
  }
 },
 "nbformat": 4,
 "nbformat_minor": 5
}
