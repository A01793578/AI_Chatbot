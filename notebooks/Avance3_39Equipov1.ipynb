{
  "nbformat": 4,
  "nbformat_minor": 0,
  "metadata": {
    "colab": {
      "provenance": [],
      "mount_file_id": "1lCQquVv31FB2TGnXbFeQmH4-I9G9jC1x",
      "authorship_tag": "ABX9TyNVANNGTmIg1mMiWj3SNav1",
      "include_colab_link": true
    },
    "kernelspec": {
      "name": "python3",
      "display_name": "Python 3"
    },
    "language_info": {
      "name": "python"
    }
  },
  "cells": [
    {
      "cell_type": "markdown",
      "metadata": {
        "id": "view-in-github",
        "colab_type": "text"
      },
      "source": [
        "<a href=\"https://colab.research.google.com/github/A01793578/AI_Chatbot/blob/main/notebooks/Avance3_39Equipov1.ipynb\" target=\"_parent\"><img src=\"https://colab.research.google.com/assets/colab-badge.svg\" alt=\"Open In Colab\"/></a>"
      ]
    },
    {
      "cell_type": "code",
      "execution_count": null,
      "metadata": {
        "id": "J8PR_kPPYuFo"
      },
      "outputs": [],
      "source": [
        "# Instalar Whoosh para la indexación y búsqueda de texto\n",
        "!pip install whoosh\n",
        "\n",
        "# Instalar transformers para los modelos de generación de lenguaje natural\n",
        "!pip install transformers\n",
        "\n",
        "# Instalar pandas para la manipulación de datos\n",
        "!pip install pandas\n",
        "\n",
        "# Instalar PyTorch (por defecto, Colab ya incluye PyTorch, pero puedes actualizarlo si es necesario)\n",
        "!pip install torch\n",
        "\n",
        "# Instalar matplotlib para la visualización de gráficos\n",
        "!pip install matplotlib\n"
      ]
    }
  ]
}